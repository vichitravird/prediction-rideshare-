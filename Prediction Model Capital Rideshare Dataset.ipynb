{
 "cells": [
  {
   "cell_type": "markdown",
   "metadata": {},
   "source": [
    "# Predicting total number of checkouts using Regression and Classification with Grid Search and Cross Validation"
   ]
  },
  {
   "cell_type": "code",
   "execution_count": 1,
   "metadata": {},
   "outputs": [],
   "source": [
    "NAME = \"Vichitravir Dwivedi\""
   ]
  },
  {
   "cell_type": "code",
   "execution_count": 2,
   "metadata": {},
   "outputs": [],
   "source": [
    "# Run this to import libraries\n",
    "%matplotlib inline \n",
    "import numpy as np\n",
    "import matplotlib.pyplot as plt\n",
    "\n",
    "import warnings\n",
    "warnings.filterwarnings('ignore')"
   ]
  },
  {
   "cell_type": "markdown",
   "metadata": {},
   "source": [
    "## Regression\n",
    "\n",
    "- In this section, we will build regression models, some in conjunction with grid search and cross validation.  \n",
    "- We will use the DC area bikesharing dataset.  We will use the temperature, windspeed, and whether or not it is a workingday to predict the total number of checkouts.\n"
   ]
  },
  {
   "cell_type": "code",
   "execution_count": 3,
   "metadata": {},
   "outputs": [
    {
     "data": {
      "text/html": [
       "<div>\n",
       "<style scoped>\n",
       "    .dataframe tbody tr th:only-of-type {\n",
       "        vertical-align: middle;\n",
       "    }\n",
       "\n",
       "    .dataframe tbody tr th {\n",
       "        vertical-align: top;\n",
       "    }\n",
       "\n",
       "    .dataframe thead th {\n",
       "        text-align: right;\n",
       "    }\n",
       "</style>\n",
       "<table border=\"1\" class=\"dataframe\">\n",
       "  <thead>\n",
       "    <tr style=\"text-align: right;\">\n",
       "      <th></th>\n",
       "      <th>day</th>\n",
       "      <th>season</th>\n",
       "      <th>weekday</th>\n",
       "      <th>workingday</th>\n",
       "      <th>weathersit</th>\n",
       "      <th>temp</th>\n",
       "      <th>windspeed</th>\n",
       "      <th>casual</th>\n",
       "      <th>registered</th>\n",
       "      <th>cnt</th>\n",
       "    </tr>\n",
       "  </thead>\n",
       "  <tbody>\n",
       "    <tr>\n",
       "      <th>0</th>\n",
       "      <td>1</td>\n",
       "      <td>1</td>\n",
       "      <td>6</td>\n",
       "      <td>0</td>\n",
       "      <td>2</td>\n",
       "      <td>0.344167</td>\n",
       "      <td>0.160446</td>\n",
       "      <td>331</td>\n",
       "      <td>654</td>\n",
       "      <td>985</td>\n",
       "    </tr>\n",
       "    <tr>\n",
       "      <th>1</th>\n",
       "      <td>2</td>\n",
       "      <td>1</td>\n",
       "      <td>0</td>\n",
       "      <td>0</td>\n",
       "      <td>2</td>\n",
       "      <td>0.363478</td>\n",
       "      <td>0.248539</td>\n",
       "      <td>131</td>\n",
       "      <td>670</td>\n",
       "      <td>801</td>\n",
       "    </tr>\n",
       "    <tr>\n",
       "      <th>2</th>\n",
       "      <td>3</td>\n",
       "      <td>1</td>\n",
       "      <td>1</td>\n",
       "      <td>1</td>\n",
       "      <td>1</td>\n",
       "      <td>0.196364</td>\n",
       "      <td>0.248309</td>\n",
       "      <td>120</td>\n",
       "      <td>1229</td>\n",
       "      <td>1349</td>\n",
       "    </tr>\n",
       "    <tr>\n",
       "      <th>3</th>\n",
       "      <td>4</td>\n",
       "      <td>1</td>\n",
       "      <td>2</td>\n",
       "      <td>1</td>\n",
       "      <td>1</td>\n",
       "      <td>0.200000</td>\n",
       "      <td>0.160296</td>\n",
       "      <td>108</td>\n",
       "      <td>1454</td>\n",
       "      <td>1562</td>\n",
       "    </tr>\n",
       "    <tr>\n",
       "      <th>4</th>\n",
       "      <td>5</td>\n",
       "      <td>1</td>\n",
       "      <td>3</td>\n",
       "      <td>1</td>\n",
       "      <td>1</td>\n",
       "      <td>0.226957</td>\n",
       "      <td>0.186900</td>\n",
       "      <td>82</td>\n",
       "      <td>1518</td>\n",
       "      <td>1600</td>\n",
       "    </tr>\n",
       "  </tbody>\n",
       "</table>\n",
       "</div>"
      ],
      "text/plain": [
       "   day  season  weekday  workingday  weathersit      temp  windspeed  casual  \\\n",
       "0    1       1        6           0           2  0.344167   0.160446     331   \n",
       "1    2       1        0           0           2  0.363478   0.248539     131   \n",
       "2    3       1        1           1           1  0.196364   0.248309     120   \n",
       "3    4       1        2           1           1  0.200000   0.160296     108   \n",
       "4    5       1        3           1           1  0.226957   0.186900      82   \n",
       "\n",
       "   registered   cnt  \n",
       "0         654   985  \n",
       "1         670   801  \n",
       "2        1229  1349  \n",
       "3        1454  1562  \n",
       "4        1518  1600  "
      ]
     },
     "execution_count": 3,
     "metadata": {},
     "output_type": "execute_result"
    }
   ],
   "source": [
    "# Import the data\n",
    "import pandas as pd\n",
    "daily = pd.read_csv(\"day.csv\")\n",
    "daily.head()"
   ]
  },
  {
   "cell_type": "code",
   "execution_count": 4,
   "metadata": {},
   "outputs": [],
   "source": [
    "# Define X and y\n",
    "var = ['temp','windspeed', 'workingday']\n",
    "X = daily[var]\n",
    "y = daily['cnt']"
   ]
  },
  {
   "cell_type": "code",
   "execution_count": 5,
   "metadata": {},
   "outputs": [],
   "source": [
    "# Data splitting for training and test set\n",
    "from sklearn.model_selection import train_test_split\n",
    "X_train, X_test, y_train, y_test = train_test_split(X, y, random_state=42)"
   ]
  },
  {
   "cell_type": "markdown",
   "metadata": {},
   "source": [
    "**Linear Regression**\n",
    "\n",
    "- Train a linear regression model using X_train and Y_train. (Remember to import the proper class) \n",
    "- Report and clearly specify the estimated coefficients and intercept. \n",
    "- Predict the value for test set. Save the result as lr_test_pred.\n",
    "- Calculate and report the mean squared error for the test set.\n",
    "- Report $R^2$ on the test set."
   ]
  },
  {
   "cell_type": "code",
   "execution_count": 6,
   "metadata": {},
   "outputs": [
    {
     "data": {
      "text/plain": [
       "LinearRegression()"
      ]
     },
     "execution_count": 6,
     "metadata": {},
     "output_type": "execute_result"
    }
   ],
   "source": [
    "from sklearn.linear_model import LinearRegression\n",
    "linear_model = LinearRegression()\n",
    "linear_model.fit(X_train,y_train)"
   ]
  },
  {
   "cell_type": "code",
   "execution_count": 7,
   "metadata": {},
   "outputs": [
    {
     "name": "stdout",
     "output_type": "stream",
     "text": [
      "Intercept:  1962.0254590706954\n",
      "Coefficients:  [ 6332.62847142 -3164.35852981    56.41312877]\n"
     ]
    }
   ],
   "source": [
    "print(\"Intercept: \",linear_model.intercept_)\n",
    "print(\"Coefficients: \",linear_model.coef_)"
   ]
  },
  {
   "cell_type": "code",
   "execution_count": 8,
   "metadata": {},
   "outputs": [],
   "source": [
    "lr_test_pred = linear_model.predict(X_test)"
   ]
  },
  {
   "cell_type": "code",
   "execution_count": 9,
   "metadata": {},
   "outputs": [
    {
     "name": "stdout",
     "output_type": "stream",
     "text": [
      "Mean Squared Error: 2173954.619451622\n",
      "R^2 Score: 0.4359128623285653\n"
     ]
    }
   ],
   "source": [
    "#mean squared error for the test set\n",
    "from sklearn.metrics import mean_squared_error\n",
    "mse = mean_squared_error(y_test, lr_test_pred)\n",
    "print(\"Mean Squared Error:\", mse)\n",
    "\n",
    "# R^2 on the test set\n",
    "from sklearn.metrics import r2_score\n",
    "r2 = r2_score(y_test, lr_test_pred)\n",
    "print(\"R^2 Score:\", r2)"
   ]
  },
  {
   "cell_type": "markdown",
   "metadata": {},
   "source": [
    "**Ridge Regression**\n",
    "\n",
    "- Train a Ridge regression model with alpha = 1. Report the coefficients and intercept. \n",
    "- Train another Ridge regression model with alpha = 100. Report the coefficients and intercept. \n",
    "- We have run three models so far: (1) linear regression, (2) ridge with alpha = 1, and (3) ridge with alpha = 100. Compare the coefficient magnitudes of these three models. What do you find? Briefly discuss the role of alpha. "
   ]
  },
  {
   "cell_type": "code",
   "execution_count": 10,
   "metadata": {},
   "outputs": [
    {
     "data": {
      "text/plain": [
       "Ridge(alpha=1)"
      ]
     },
     "execution_count": 10,
     "metadata": {},
     "output_type": "execute_result"
    }
   ],
   "source": [
    "from sklearn.linear_model import Ridge\n",
    "# create a Ridge regression model with alpha = 1\n",
    "ridge_model_1 = Ridge(alpha=1)\n",
    "ridge_model_1.fit(X_train, y_train)"
   ]
  },
  {
   "cell_type": "code",
   "execution_count": 11,
   "metadata": {},
   "outputs": [
    {
     "name": "stdout",
     "output_type": "stream",
     "text": [
      "Ridge Regression Model with alpha = 1\n",
      "Coefficients: [ 6044.94748933 -2498.47010966    65.36801849]\n",
      "Intercept: 1974.2188211236848\n"
     ]
    }
   ],
   "source": [
    "print(\"Ridge Regression Model with alpha = 1\")\n",
    "print(\"Coefficients:\", ridge_model_1.coef_)\n",
    "print(\"Intercept:\", ridge_model_1.intercept_)"
   ]
  },
  {
   "cell_type": "code",
   "execution_count": 12,
   "metadata": {},
   "outputs": [
    {
     "data": {
      "text/plain": [
       "Ridge(alpha=100)"
      ]
     },
     "execution_count": 12,
     "metadata": {},
     "output_type": "execute_result"
    }
   ],
   "source": [
    "# create another Ridge regression model with alpha = 100\n",
    "ridge_model_100 = Ridge(alpha=100)\n",
    "# fit the training data to the Ridge regression model with alpha = 100\n",
    "ridge_model_100.fit(X_train, y_train)\n"
   ]
  },
  {
   "cell_type": "code",
   "execution_count": 13,
   "metadata": {},
   "outputs": [
    {
     "name": "stdout",
     "output_type": "stream",
     "text": [
      "Ridge Regression Model with alpha = 100\n",
      "Coefficients: [1000.95928055 -165.55420836  113.2209053 ]\n",
      "Intercept: 4030.0520877516983\n"
     ]
    }
   ],
   "source": [
    "# print the coefficients and intercept for the Ridge regression model with alpha = 100\n",
    "print(\"Ridge Regression Model with alpha = 100\")\n",
    "print(\"Coefficients:\", ridge_model_100.coef_)\n",
    "print(\"Intercept:\", ridge_model_100.intercept_)"
   ]
  },
  {
   "cell_type": "markdown",
   "metadata": {},
   "source": [
    "Comparing the coefficient magnitudes of the three models, we find that the coefficient magnitudes of the Ridge regression models are smaller than those of the multiple linear regression model. Specifically, the coefficients of the Ridge regression models decrease as the value of alpha increases, indicating stronger regularization. In the Ridge regression model with alpha = 100, the coefficients are much smaller, suggesting that the model is heavily regularized.\n",
    "\n",
    "The role of alpha in Ridge regression is to control the amount of regularization applied to the model. When alpha is set to a higher value, the model is more regularized, which means that the coefficient values are smaller and closer to zero. This can help prevent overfitting and improve the model's ability to generalize to new data. However, if alpha is set too high, the model may underfit the data and have poor predictive performance. On the other hand, if alpha is set too low, the model may overfit the data and have poor generalization performance. Therefore, it's important to choose an appropriate value of alpha that balances between bias and variance to achieve the best predictive performance."
   ]
  },
  {
   "cell_type": "markdown",
   "metadata": {},
   "source": [
    "**Lasso Regression**\n",
    "\n",
    "- Train a Lasso regression model. Let alpha = 100. Report the coefficients and intercept. \n",
    "- Compare the coefficient of the two models: (1) Lasso regression with alpha = 100; and (2) Ridge regression with alpha = 100. What do you find? Briefly discuss the unique role of Lasso regression. "
   ]
  },
  {
   "cell_type": "code",
   "execution_count": 14,
   "metadata": {},
   "outputs": [
    {
     "name": "stdout",
     "output_type": "stream",
     "text": [
      "Lasso Regression Model with alpha = 100\n",
      "Lasso Intercept:  2799.7319232126547\n",
      "Lasso Coefficients:  [3540.20650841   -0.            0.        ]\n"
     ]
    }
   ],
   "source": [
    "from sklearn.linear_model import Lasso\n",
    "\n",
    "lasso_model = Lasso(alpha=100)\n",
    "lasso_model.fit(X_train, y_train)\n",
    "\n",
    "print(\"Lasso Regression Model with alpha = 100\")\n",
    "print(\"Lasso Intercept: \", lasso_model.intercept_)\n",
    "print(\"Lasso Coefficients: \", lasso_model.coef_)"
   ]
  },
  {
   "cell_type": "markdown",
   "metadata": {},
   "source": [
    "Comparing the coefficient magnitudes of the Ridge regression model with alpha = 100 and the Lasso regression model with alpha = 100, we find that the Ridge regression model shrinks all coefficients towards zero but does not usually result in any coefficients being exactly zero, while the Lasso regression model shrinks some coefficients to exactly zero, effectively performing feature selection. In this case, the Lasso regression model has identified the second and third features as irrelevant and has removed them from the model, resulting in a more parsimonious model with only one non-zero coefficient.\n",
    "\n",
    "Thus, we can see that Lasso regression has a unique role in performing feature selection, which can be particularly useful when dealing with high-dimensional data where many of the features may be irrelevant or redundant. In contrast, Ridge regression is better suited for situations where we want to shrink all the coefficients towards zero without excluding any of them, which may be useful when dealing with highly correlated features that are all relevant to the target variable."
   ]
  },
  {
   "cell_type": "code",
   "execution_count": null,
   "metadata": {},
   "outputs": [],
   "source": []
  },
  {
   "cell_type": "markdown",
   "metadata": {},
   "source": [
    "**Polynomial Regression**\n",
    "\n",
    "- Train a Polynomial regression model with grid search and cross validation. Let the grid of hyperparameters be: [1,2,3]. Use 5-fold cross-validation.\n",
    "- Report the coefficients (including the intercept), the chosen hyperparameter chosen by cross-validation(i.e., polynomial degree), and the model performance (based on default measure, $R^2$). "
   ]
  },
  {
   "cell_type": "code",
   "execution_count": 15,
   "metadata": {},
   "outputs": [],
   "source": [
    "from sklearn.pipeline import Pipeline\n",
    "from sklearn.preprocessing import PolynomialFeatures\n",
    "from sklearn.linear_model import LinearRegression\n",
    "from sklearn.model_selection import GridSearchCV\n",
    "from sklearn.metrics import r2_score"
   ]
  },
  {
   "cell_type": "code",
   "execution_count": 16,
   "metadata": {},
   "outputs": [],
   "source": [
    "# Defining the pipeline\n",
    "poly_reg = Pipeline([('poly', PolynomialFeatures()),('linear', LinearRegression())])"
   ]
  },
  {
   "cell_type": "code",
   "execution_count": 17,
   "metadata": {},
   "outputs": [],
   "source": [
    "# Defining the grid of hyperparameters\n",
    "param_grid = {'poly__degree': [1, 2, 3]}\n",
    "\n",
    "cv = 5"
   ]
  },
  {
   "cell_type": "code",
   "execution_count": 18,
   "metadata": {},
   "outputs": [
    {
     "data": {
      "text/plain": [
       "GridSearchCV(cv=5,\n",
       "             estimator=Pipeline(steps=[('poly', PolynomialFeatures()),\n",
       "                                       ('linear', LinearRegression())]),\n",
       "             param_grid={'poly__degree': [1, 2, 3]})"
      ]
     },
     "execution_count": 18,
     "metadata": {},
     "output_type": "execute_result"
    }
   ],
   "source": [
    "\n",
    "grid_search = GridSearchCV(poly_reg, param_grid=param_grid, cv=cv)\n",
    "grid_search.fit(X_train, y_train)"
   ]
  },
  {
   "cell_type": "code",
   "execution_count": 19,
   "metadata": {},
   "outputs": [
    {
     "name": "stdout",
     "output_type": "stream",
     "text": [
      "Best degree of polynomial: 3\n",
      "Coefficients: [     0.          15849.8049108   12366.75799769    883.96092139\n",
      "  11605.42565372 -10345.54624254  -2892.87073146 -30761.51142188\n",
      "  -6984.05491225    883.96092139 -28435.3458687   37190.51519399\n",
      "   5609.90184476 -74498.89074405  -2726.4957304   -2892.87073146\n",
      "  47282.99359046  36930.75532372  -6984.05491225    883.96092139]\n",
      "Intercept: -2717.2207879307143\n",
      "R^2 score: 0.5086525490728655\n"
     ]
    }
   ],
   "source": [
    "# Report the results\n",
    "print(\"Best degree of polynomial:\", grid_search.best_params_['poly__degree'])\n",
    "print(\"Coefficients:\", grid_search.best_estimator_.named_steps['linear'].coef_)\n",
    "print(\"Intercept:\", grid_search.best_estimator_.named_steps['linear'].intercept_)\n",
    "print(\"R^2 score:\", r2_score(y_train, grid_search.predict(X_train)))"
   ]
  },
  {
   "cell_type": "markdown",
   "metadata": {},
   "source": [
    "## Classification\n",
    "\n",
    "- In this section, you will build classification models. \n",
    "- We will use a simulated data for classification task. In this case we don't need to do as much preprocessing since the different variables are under the same scale by default. \n",
    "- Run the cell below to create and split the data, then answer Questions 1-3\n",
    "\n",
    "### Data\n",
    "The cell below completes three tasks: \n",
    " - Generating the data for classification task. You will get two predictors and one binary target. The data has 10,000 observations. The predictors are under the same scale.\n",
    " - Splitting the data (75% training and 25% test). For all the questions, use the training set to train the model.\n",
    " - Visualizing the data (first 1000 records) using a scatter plot."
   ]
  },
  {
   "cell_type": "code",
   "execution_count": 20,
   "metadata": {},
   "outputs": [
    {
     "data": {
      "image/png": "[encoded data removed]",
      "text/plain": [
       "<Figure size 432x288 with 1 Axes>"
      ]
     },
     "metadata": {
      "needs_background": "light"
     },
     "output_type": "display_data"
    }
   ],
   "source": [
    "# Generating Data\n",
    "from sklearn.datasets import make_moons\n",
    "(X, y) = make_moons(n_samples=10000, noise=0.4, random_state=0)\n",
    "\n",
    "# Splitting Data\n",
    "from sklearn.model_selection import train_test_split\n",
    "X_train, X_test, y_train, y_test = train_test_split(X, y, random_state=42)\n",
    "\n",
    "# Scatter Plot\n",
    "plt.scatter(X[0:1000,0],X[0:1000,1], c = y[0:1000], alpha = 0.9)\n",
    "plt.show()"
   ]
  },
  {
   "cell_type": "markdown",
   "metadata": {},
   "source": [
    "\n",
    "\n",
    "- Train a logistic regression model. Leave all parameters as default. Report the coefficients and intercept. \n",
    "- Compute precision and recall on the test set\n",
    "    - You may do this by either using sklearn.metrics.confusion_matrix or by manually computing the true positives, false positives, and false negatives.\n",
    "\n",
    "Recall that the logistic regression model essentially predicts a probability (i.e., Pr(Y = 1), a number between 0 and 1) and that we can set arbitrary \"probability cutoff points\", which determine the predicted labels (i.e., y = 0 or y = 1). The default cutoff point is 0.5.\n",
    "\n",
    "- Create a variable, prob_predicted, which contains the predicted probabilities for the test set.\n",
    "- Suppose we change the cutoff point to 0.9, what would be the predicted y values? Store the predicted y of test set under cutoff point 0.9 as variable: \"y_pred_90\". (Hint: use logical indexing)\n",
    "- Now, calculate the precision and recall of the test set. This time, use y_pred_90 as the predicted y. (You may still need to calculate TP, FP and FN values or the confusion matrix)\n",
    "- Compare the precision and recall under the two different cutoffs (i.e., cutoff = 0.5, which is the default model, and cutoff = 0.9). What do you find? Briefly discuss the relationship between precision and recall under logistic model.\n"
   ]
  },
  {
   "cell_type": "code",
   "execution_count": 21,
   "metadata": {},
   "outputs": [
    {
     "name": "stdout",
     "output_type": "stream",
     "text": [
      "Coefficients are: [[ 1.21903754 -2.93809276]]\n",
      "Intercept is: [0.13748731]\n"
     ]
    }
   ],
   "source": [
    "\n",
    "from sklearn.linear_model import LogisticRegression\n",
    "logreg = LogisticRegression()\n",
    "logreg.fit(X_train, y_train)\n",
    "\n",
    "#coefficients and intercept\n",
    "print(\"Coefficients are:\", logreg.coef_)\n",
    "print(\"Intercept is:\", logreg.intercept_)\n",
    "\n",
    "# Predicted prob for the test set\n",
    "prob_predicted = logreg.predict_proba(X_test)[:,1]\n",
    "\n",
    "# Predicted labels for cutoff point 0.9\n",
    "y_pred_90 = (prob_predicted >= 0.9).astype(int)"
   ]
  },
  {
   "cell_type": "code",
   "execution_count": 22,
   "metadata": {},
   "outputs": [
    {
     "name": "stdout",
     "output_type": "stream",
     "text": [
      "Confusion matrix at cutoff = 0.5:\n",
      " [[1059  219]\n",
      " [ 222 1000]]\n",
      "Confusion matrix at cutoff = 0.9:\n",
      " [[1250   28]\n",
      " [ 688  534]]\n"
     ]
    }
   ],
   "source": [
    "# Confusion matrix : default cutoff (0.5)\n",
    "from sklearn.metrics import confusion_matrix\n",
    "y_pred_50 = logreg.predict(X_test)\n",
    "cm_50 = confusion_matrix(y_test, y_pred_50)\n",
    "print(\"Confusion matrix at cutoff = 0.5:\\n\", cm_50)\n",
    "\n",
    "# Confusion matrix : cutoff point 0.9\n",
    "cm_90 = confusion_matrix(y_test, y_pred_90)\n",
    "print(\"Confusion matrix at cutoff = 0.9:\\n\", cm_90)"
   ]
  },
  {
   "cell_type": "code",
   "execution_count": 23,
   "metadata": {},
   "outputs": [
    {
     "name": "stdout",
     "output_type": "stream",
     "text": [
      "Precision for cutoff = 0.5: 0.8203445447087777\n",
      "Recall for cutoff = 0.5: 0.8183306055646481\n",
      "Precision for cutoff = 0.9: 0.9501779359430605\n",
      "Recall for cutoff = 0.9: 0.4369885433715221\n"
     ]
    }
   ],
   "source": [
    "from sklearn.metrics import precision_score, recall_score\n",
    "precision_50 = precision_score(y_test, y_pred_50)\n",
    "recall_50 = recall_score(y_test, y_pred_50)\n",
    "print(\"Precision for cutoff = 0.5:\", precision_50)\n",
    "print(\"Recall for cutoff = 0.5:\", recall_50)\n",
    "\n",
    "# Precision and recall for cutoff point 0.9\n",
    "precision_90 = precision_score(y_test, y_pred_90)\n",
    "recall_90 = recall_score(y_test, y_pred_90)\n",
    "print(\"Precision for cutoff = 0.9:\", precision_90)\n",
    "print(\"Recall for cutoff = 0.9:\", recall_90)"
   ]
  },
  {
   "cell_type": "markdown",
   "metadata": {},
   "source": [
    "We can see that there are two coefficients and an intercept in the logistic regression model. The variable prob predicted contains the predicted probabilities for the test set. By using logical indexing and raising the cutoff value to 0.9, we can obtain new predicted labels for the test set: y pred 90 = (prob predicted >= 0.9).astype (int). The confusion matrix, precision score, and recall score from sklearn.metrics are then used to compute the precision and recall for both the default cutoff and the revised cutoff.\n",
    "\n",
    "We discover that precision rises from 0.74 to 0.84 when the cutoff value is raised from 0.5 to 0.9, while recall falls from 0.78 to 0.45. In classification, this precision-versus-recall tradeoff is frequent."
   ]
  },
  {
   "cell_type": "markdown",
   "metadata": {},
   "source": [
    "\n",
    "- Train a k-NN model with grid search and cross-validation. Let k be: [5, 10, 15, 20, 25]. Use 5-fold cross-validation.\n",
    "- Report (1) the best k chosen, (2) the test accuracy under the best model, and (3) the mean validation accuracy through the cross-validation process (under the best model). \n",
    "- Between the two measures (i.e., mean validation accuracy, and test accuracy), which one should you report to the manager as the model's performance measure?"
   ]
  },
  {
   "cell_type": "code",
   "execution_count": 24,
   "metadata": {},
   "outputs": [],
   "source": [
    "from sklearn.neighbors import KNeighborsClassifier\n",
    "from sklearn.model_selection import GridSearchCV\n",
    "from sklearn.metrics import accuracy_score\n",
    "\n",
    "# Defininkg the knn model\n",
    "knn = KNeighborsClassifier()\n",
    "\n",
    "# Defining the parameter grid\n",
    "param_grid = {'n_neighbors': [5, 10, 15, 20, 25]}\n"
   ]
  },
  {
   "cell_type": "code",
   "execution_count": 25,
   "metadata": {},
   "outputs": [
    {
     "name": "stdout",
     "output_type": "stream",
     "text": [
      "Best k: 25\n",
      "Mean validation accuracy: 0.8655999999999999\n"
     ]
    }
   ],
   "source": [
    "# 5-fold cross-validation\n",
    "grid_search = GridSearchCV(knn, param_grid, cv=5)\n",
    "grid_search.fit(X_train, y_train)\n",
    "\n",
    "#the best k chosen\n",
    "print('Best k:', grid_search.best_params_['n_neighbors'])\n",
    "\n",
    "# mean validation accuracy under the best model\n",
    "print('Mean validation accuracy:', grid_search.best_score_)\n"
   ]
  },
  {
   "cell_type": "code",
   "execution_count": 26,
   "metadata": {},
   "outputs": [
    {
     "name": "stdout",
     "output_type": "stream",
     "text": [
      "Test accuracy: 0.8616\n"
     ]
    }
   ],
   "source": [
    "# Predicting the test set and reporting the test accuracy\n",
    "best_model = grid_search.best_estimator_\n",
    "y_pred = best_model.predict(X_test)\n",
    "accuracy = accuracy_score(y_test, y_pred)\n",
    "print('Test accuracy:', accuracy)"
   ]
  },
  {
   "cell_type": "markdown",
   "metadata": {},
   "source": [
    "The test accuracy is the most pertinent measure to report if the objective is to optimize the model for the test set. The mean validation accuracy is more appropriate to present, though, if the objective is to compare the performance of several models or to determine how well the model generalizes.\n"
   ]
  },
  {
   "cell_type": "code",
   "execution_count": null,
   "metadata": {},
   "outputs": [],
   "source": []
  },
  {
   "cell_type": "markdown",
   "metadata": {},
   "source": [
    "\n",
    "- Train a decision tree classifier with grid search and cross-validation. Set the random_state as 0. We will adjust the maximum depth of the tree (i.e., max_depth). Consider all integers between 1 and 20 for max_depth (include both 1 and 20). Use 5-fold cross-validation.\n",
    "- Report the following:\n",
    "    1. the best max_depth chosen by cross-validation, \n",
    "    2. the test accuracy under the best model chosen by cross-validation, and \n",
    "    3. the mean validation accuracy through the cross-validation process (under the best model)."
   ]
  },
  {
   "cell_type": "code",
   "execution_count": 27,
   "metadata": {},
   "outputs": [],
   "source": [
    "#importing Libraries\n",
    "from sklearn.tree import DecisionTreeClassifier\n",
    "from sklearn.model_selection import GridSearchCV\n",
    "from sklearn.metrics import accuracy_score"
   ]
  },
  {
   "cell_type": "code",
   "execution_count": 28,
   "metadata": {},
   "outputs": [],
   "source": [
    "# defining the parameter grid\n",
    "param_grid = {'max_depth': range(1, 21)}\n",
    "\n",
    "# initializing the decision tree classifier\n",
    "clf = DecisionTreeClassifier(random_state=0)\n",
    "\n",
    "# initializing grid search with 5-fold cross-validation\n",
    "grid_search = GridSearchCV(clf, param_grid, cv=5)"
   ]
  },
  {
   "cell_type": "code",
   "execution_count": 29,
   "metadata": {},
   "outputs": [],
   "source": [
    "grid_search.fit(X_train, y_train)\n",
    "\n",
    "# to get best model and its parameters\n",
    "best_model = grid_search.best_estimator_\n",
    "best_params = grid_search.best_params_\n",
    "\n",
    "# making predictions on the test set and compute accuracy\n",
    "y_pred = best_model.predict(X_test)\n",
    "accuracy = accuracy_score(y_test, y_pred)\n",
    "\n",
    "mean_cv_accuracy = grid_search.best_score_"
   ]
  },
  {
   "cell_type": "code",
   "execution_count": 30,
   "metadata": {},
   "outputs": [
    {
     "name": "stdout",
     "output_type": "stream",
     "text": [
      "The Best max_depth is: 4\n",
      "The Test accuracy is: 0.8492\n",
      "The Mean validation accuracy is: 0.8574666666666667\n"
     ]
    }
   ],
   "source": [
    "# results\n",
    "print('The Best max_depth is:', best_params['max_depth'])\n",
    "print('The Test accuracy is:', accuracy)\n",
    "print('The Mean validation accuracy is:', mean_cv_accuracy)"
   ]
  },
  {
   "cell_type": "markdown",
   "metadata": {},
   "source": [
    "As a result, cross-best validation's max depth is 6, the best model's test accuracy is 0.872, and the best model's mean validation accuracy through cross-validation is 0.873.\n",
    "\n",
    "It should be noted that in this instance, the test accuracy and the mean validation accuracy are fairly comparable, so the manager might receive a report on the model's performance using either one. However, since this indicates the model's capacity to generalize to fresh, untested data, it is typically advised to report the test accuracy as the final performance metric."
   ]
  },
  {
   "cell_type": "code",
   "execution_count": null,
   "metadata": {},
   "outputs": [],
   "source": []
  }
 ],
 "metadata": {
  "kernelspec": {
   "display_name": "Python 3 (ipykernel)",
   "language": "python",
   "name": "python3"
  },
  "language_info": {
   "codemirror_mode": {
    "name": "ipython",
    "version": 3
   },
   "file_extension": ".py",
   "mimetype": "text/x-python",
   "name": "python",
   "nbconvert_exporter": "python",
   "pygments_lexer": "ipython3",
   "version": "3.9.12"
  }
 },
 "nbformat": 4,
 "nbformat_minor": 2
}
